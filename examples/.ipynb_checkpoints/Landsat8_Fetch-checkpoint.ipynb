{
 "cells": [
  {
   "cell_type": "markdown",
   "metadata": {},
   "source": [
    "Automated Landsat-8 Data Retrieval\n",
    "==============================\n",
    "\n",
    "Let's say that you want to automate some data retrieval for the Landsat-8 sensor. Maybe you have some time series analysis that requires finding successive scenes, or perhaps you have several sites that are widely spread. How do you do this in python? How can write script that finds the data you want, and fetches it?\n",
    "\n",
    "Landsat scenes are 'Level 3' data products, which means they are produced on a regular grid with a fixed pixel resolution; these grids themselves are also laid out on an aquisition grid-- a 'grid of grids'. The aquisition grid defined by 'path' and 'row' coordinates analgous to the lat/lon locations of the center of the data scene. For a given row/path, the collected data will always align with previous scene aquisitions-- i.e., pixel coordinates (337, 1208) for data from Landsat-8 row 008 path 087 will always have the same geolocation value regardless of date that scene was aquired.\n",
    "\n",
    "So, to find and download the scene you want, you just need to determine the path/row that is needed, and grab the appropriate file depending on the aquisition date that you want. This is simple at the equator because all of the nouns in the previous sentence are singular-- there is one path/row that contains your area of interest, becuase there is no overlap of scenes at the equator. Practically, you can just import the center point locations of the Landsat aquisition overpass, and which ever coordinate is closest to your point of interest is the scene location that you want:\n"
   ]
  },
  {
   "cell_type": "code",
   "execution_count": 1,
   "metadata": {},
   "outputs": [],
   "source": [
    "from sklearn.neighbors import BallTree\n",
    "import pandas as pd\n",
    "import numpy as np"
   ]
  },
  {
   "cell_type": "code",
   "execution_count": 2,
   "metadata": {},
   "outputs": [
    {
     "ename": "ValueError",
     "evalue": "Your version of xlrd is 2.0.1. In xlrd >= 2.0, only the xls format is supported. Install openpyxl instead.",
     "output_type": "error",
     "traceback": [
      "\u001b[0;31m---------------------------------------------------------------------------\u001b[0m",
      "\u001b[0;31mValueError\u001b[0m                                Traceback (most recent call last)",
      "\u001b[0;32m<ipython-input-2-30c861494b6d>\u001b[0m in \u001b[0;36m<module>\u001b[0;34m\u001b[0m\n\u001b[1;32m      1\u001b[0m \u001b[0mls8\u001b[0m \u001b[0;34m=\u001b[0m \u001b[0mpd\u001b[0m\u001b[0;34m.\u001b[0m\u001b[0mread_csv\u001b[0m\u001b[0;34m(\u001b[0m\u001b[0;34m'./LS8.csv'\u001b[0m\u001b[0;34m)\u001b[0m\u001b[0;34m\u001b[0m\u001b[0;34m\u001b[0m\u001b[0m\n\u001b[1;32m      2\u001b[0m \u001b[0;34m\u001b[0m\u001b[0m\n\u001b[0;32m----> 3\u001b[0;31m \u001b[0mls8_new\u001b[0m \u001b[0;34m=\u001b[0m \u001b[0mpd\u001b[0m\u001b[0;34m.\u001b[0m\u001b[0mread_excel\u001b[0m\u001b[0;34m(\u001b[0m\u001b[0;34m'./LS8_cornerPts.xlsx'\u001b[0m\u001b[0;34m)\u001b[0m\u001b[0;34m\u001b[0m\u001b[0;34m\u001b[0m\u001b[0m\n\u001b[0m",
      "\u001b[0;32m~/anaconda3/envs/jme/lib/python3.8/site-packages/pandas/util/_decorators.py\u001b[0m in \u001b[0;36mwrapper\u001b[0;34m(*args, **kwargs)\u001b[0m\n\u001b[1;32m    297\u001b[0m                 )\n\u001b[1;32m    298\u001b[0m                 \u001b[0mwarnings\u001b[0m\u001b[0;34m.\u001b[0m\u001b[0mwarn\u001b[0m\u001b[0;34m(\u001b[0m\u001b[0mmsg\u001b[0m\u001b[0;34m,\u001b[0m \u001b[0mFutureWarning\u001b[0m\u001b[0;34m,\u001b[0m \u001b[0mstacklevel\u001b[0m\u001b[0;34m=\u001b[0m\u001b[0mstacklevel\u001b[0m\u001b[0;34m)\u001b[0m\u001b[0;34m\u001b[0m\u001b[0;34m\u001b[0m\u001b[0m\n\u001b[0;32m--> 299\u001b[0;31m             \u001b[0;32mreturn\u001b[0m \u001b[0mfunc\u001b[0m\u001b[0;34m(\u001b[0m\u001b[0;34m*\u001b[0m\u001b[0margs\u001b[0m\u001b[0;34m,\u001b[0m \u001b[0;34m**\u001b[0m\u001b[0mkwargs\u001b[0m\u001b[0;34m)\u001b[0m\u001b[0;34m\u001b[0m\u001b[0;34m\u001b[0m\u001b[0m\n\u001b[0m\u001b[1;32m    300\u001b[0m \u001b[0;34m\u001b[0m\u001b[0m\n\u001b[1;32m    301\u001b[0m         \u001b[0;32mreturn\u001b[0m \u001b[0mwrapper\u001b[0m\u001b[0;34m\u001b[0m\u001b[0;34m\u001b[0m\u001b[0m\n",
      "\u001b[0;32m~/anaconda3/envs/jme/lib/python3.8/site-packages/pandas/io/excel/_base.py\u001b[0m in \u001b[0;36mread_excel\u001b[0;34m(io, sheet_name, header, names, index_col, usecols, squeeze, dtype, engine, converters, true_values, false_values, skiprows, nrows, na_values, keep_default_na, na_filter, verbose, parse_dates, date_parser, thousands, comment, skipfooter, convert_float, mangle_dupe_cols, storage_options)\u001b[0m\n\u001b[1;32m    334\u001b[0m     \u001b[0;32mif\u001b[0m \u001b[0;32mnot\u001b[0m \u001b[0misinstance\u001b[0m\u001b[0;34m(\u001b[0m\u001b[0mio\u001b[0m\u001b[0;34m,\u001b[0m \u001b[0mExcelFile\u001b[0m\u001b[0;34m)\u001b[0m\u001b[0;34m:\u001b[0m\u001b[0;34m\u001b[0m\u001b[0;34m\u001b[0m\u001b[0m\n\u001b[1;32m    335\u001b[0m         \u001b[0mshould_close\u001b[0m \u001b[0;34m=\u001b[0m \u001b[0;32mTrue\u001b[0m\u001b[0;34m\u001b[0m\u001b[0;34m\u001b[0m\u001b[0m\n\u001b[0;32m--> 336\u001b[0;31m         \u001b[0mio\u001b[0m \u001b[0;34m=\u001b[0m \u001b[0mExcelFile\u001b[0m\u001b[0;34m(\u001b[0m\u001b[0mio\u001b[0m\u001b[0;34m,\u001b[0m \u001b[0mstorage_options\u001b[0m\u001b[0;34m=\u001b[0m\u001b[0mstorage_options\u001b[0m\u001b[0;34m,\u001b[0m \u001b[0mengine\u001b[0m\u001b[0;34m=\u001b[0m\u001b[0mengine\u001b[0m\u001b[0;34m)\u001b[0m\u001b[0;34m\u001b[0m\u001b[0;34m\u001b[0m\u001b[0m\n\u001b[0m\u001b[1;32m    337\u001b[0m     \u001b[0;32melif\u001b[0m \u001b[0mengine\u001b[0m \u001b[0;32mand\u001b[0m \u001b[0mengine\u001b[0m \u001b[0;34m!=\u001b[0m \u001b[0mio\u001b[0m\u001b[0;34m.\u001b[0m\u001b[0mengine\u001b[0m\u001b[0;34m:\u001b[0m\u001b[0;34m\u001b[0m\u001b[0;34m\u001b[0m\u001b[0m\n\u001b[1;32m    338\u001b[0m         raise ValueError(\n",
      "\u001b[0;32m~/anaconda3/envs/jme/lib/python3.8/site-packages/pandas/io/excel/_base.py\u001b[0m in \u001b[0;36m__init__\u001b[0;34m(self, path_or_buffer, engine, storage_options)\u001b[0m\n\u001b[1;32m   1078\u001b[0m         \u001b[0;32mif\u001b[0m \u001b[0mengine\u001b[0m \u001b[0;34m==\u001b[0m \u001b[0;34m\"xlrd\"\u001b[0m \u001b[0;32mand\u001b[0m \u001b[0mext\u001b[0m \u001b[0;34m!=\u001b[0m \u001b[0;34m\"xls\"\u001b[0m \u001b[0;32mand\u001b[0m \u001b[0mxlrd_version\u001b[0m \u001b[0;32mis\u001b[0m \u001b[0;32mnot\u001b[0m \u001b[0;32mNone\u001b[0m\u001b[0;34m:\u001b[0m\u001b[0;34m\u001b[0m\u001b[0;34m\u001b[0m\u001b[0m\n\u001b[1;32m   1079\u001b[0m             \u001b[0;32mif\u001b[0m \u001b[0mxlrd_version\u001b[0m \u001b[0;34m>=\u001b[0m \u001b[0;34m\"2\"\u001b[0m\u001b[0;34m:\u001b[0m\u001b[0;34m\u001b[0m\u001b[0;34m\u001b[0m\u001b[0m\n\u001b[0;32m-> 1080\u001b[0;31m                 raise ValueError(\n\u001b[0m\u001b[1;32m   1081\u001b[0m                     \u001b[0;34mf\"Your version of xlrd is {xlrd_version}. In xlrd >= 2.0, \"\u001b[0m\u001b[0;34m\u001b[0m\u001b[0;34m\u001b[0m\u001b[0m\n\u001b[1;32m   1082\u001b[0m                     \u001b[0;34mf\"only the xls format is supported. Install openpyxl instead.\"\u001b[0m\u001b[0;34m\u001b[0m\u001b[0;34m\u001b[0m\u001b[0m\n",
      "\u001b[0;31mValueError\u001b[0m: Your version of xlrd is 2.0.1. In xlrd >= 2.0, only the xls format is supported. Install openpyxl instead."
     ]
    }
   ],
   "source": [
    "ls8 = pd.read_csv('./LS8.csv')\n",
    "\n",
    "ls8_new = pd.read_excel('./LS8_cornerPts.xlsx')"
   ]
  },
  {
   "cell_type": "code",
   "execution_count": 4,
   "metadata": {},
   "outputs": [
    {
     "data": {
      "text/html": [
       "<div>\n",
       "<style scoped>\n",
       "    .dataframe tbody tr th:only-of-type {\n",
       "        vertical-align: middle;\n",
       "    }\n",
       "\n",
       "    .dataframe tbody tr th {\n",
       "        vertical-align: top;\n",
       "    }\n",
       "\n",
       "    .dataframe thead th {\n",
       "        text-align: right;\n",
       "    }\n",
       "</style>\n",
       "<table border=\"1\" class=\"dataframe\">\n",
       "  <thead>\n",
       "    <tr style=\"text-align: right;\">\n",
       "      <th></th>\n",
       "      <th>name</th>\n",
       "      <th>path</th>\n",
       "      <th>row</th>\n",
       "      <th>lat</th>\n",
       "      <th>lon</th>\n",
       "      <th>lat_UL</th>\n",
       "      <th>lon_UL</th>\n",
       "      <th>lat_UR</th>\n",
       "      <th>lon_UR</th>\n",
       "      <th>lat_LL</th>\n",
       "      <th>lon_LL</th>\n",
       "      <th>lat_LR</th>\n",
       "      <th>lon_LR</th>\n",
       "    </tr>\n",
       "  </thead>\n",
       "  <tbody>\n",
       "    <tr>\n",
       "      <th>0</th>\n",
       "      <td>16_122</td>\n",
       "      <td>16.0</td>\n",
       "      <td>122.0</td>\n",
       "      <td>-81.844418</td>\n",
       "      <td>176.043772</td>\n",
       "      <td>-80.929</td>\n",
       "      <td>-178.785</td>\n",
       "      <td>-82.680</td>\n",
       "      <td>-177.567</td>\n",
       "      <td>-80.929</td>\n",
       "      <td>170.873</td>\n",
       "      <td>-82.680</td>\n",
       "      <td>169.654</td>\n",
       "    </tr>\n",
       "    <tr>\n",
       "      <th>1</th>\n",
       "      <td>15_122</td>\n",
       "      <td>15.0</td>\n",
       "      <td>122.0</td>\n",
       "      <td>-81.844418</td>\n",
       "      <td>177.588836</td>\n",
       "      <td>-80.929</td>\n",
       "      <td>-177.240</td>\n",
       "      <td>-82.680</td>\n",
       "      <td>-176.021</td>\n",
       "      <td>-80.929</td>\n",
       "      <td>172.418</td>\n",
       "      <td>-82.680</td>\n",
       "      <td>171.199</td>\n",
       "    </tr>\n",
       "    <tr>\n",
       "      <th>2</th>\n",
       "      <td>14_122</td>\n",
       "      <td>14.0</td>\n",
       "      <td>122.0</td>\n",
       "      <td>-81.844418</td>\n",
       "      <td>179.133901</td>\n",
       "      <td>-80.929</td>\n",
       "      <td>-175.695</td>\n",
       "      <td>-82.680</td>\n",
       "      <td>-174.476</td>\n",
       "      <td>-80.929</td>\n",
       "      <td>173.963</td>\n",
       "      <td>-82.680</td>\n",
       "      <td>172.744</td>\n",
       "    </tr>\n",
       "    <tr>\n",
       "      <th>3</th>\n",
       "      <td>13_122</td>\n",
       "      <td>13.0</td>\n",
       "      <td>122.0</td>\n",
       "      <td>-81.844418</td>\n",
       "      <td>-179.321040</td>\n",
       "      <td>-80.929</td>\n",
       "      <td>-174.150</td>\n",
       "      <td>-82.680</td>\n",
       "      <td>-172.931</td>\n",
       "      <td>-80.929</td>\n",
       "      <td>175.508</td>\n",
       "      <td>-82.680</td>\n",
       "      <td>174.289</td>\n",
       "    </tr>\n",
       "    <tr>\n",
       "      <th>4</th>\n",
       "      <td>12_122</td>\n",
       "      <td>12.0</td>\n",
       "      <td>122.0</td>\n",
       "      <td>-81.844418</td>\n",
       "      <td>-177.775970</td>\n",
       "      <td>-80.929</td>\n",
       "      <td>-172.605</td>\n",
       "      <td>-82.680</td>\n",
       "      <td>-171.386</td>\n",
       "      <td>-80.929</td>\n",
       "      <td>177.053</td>\n",
       "      <td>-82.680</td>\n",
       "      <td>175.834</td>\n",
       "    </tr>\n",
       "    <tr>\n",
       "      <th>...</th>\n",
       "      <td>...</td>\n",
       "      <td>...</td>\n",
       "      <td>...</td>\n",
       "      <td>...</td>\n",
       "      <td>...</td>\n",
       "      <td>...</td>\n",
       "      <td>...</td>\n",
       "      <td>...</td>\n",
       "      <td>...</td>\n",
       "      <td>...</td>\n",
       "      <td>...</td>\n",
       "      <td>...</td>\n",
       "      <td>...</td>\n",
       "    </tr>\n",
       "    <tr>\n",
       "      <th>28552</th>\n",
       "      <td>124_247</td>\n",
       "      <td>124.0</td>\n",
       "      <td>247.0</td>\n",
       "      <td>81.718750</td>\n",
       "      <td>166.653724</td>\n",
       "      <td>82.696</td>\n",
       "      <td>171.759</td>\n",
       "      <td>80.942</td>\n",
       "      <td>172.726</td>\n",
       "      <td>82.387</td>\n",
       "      <td>159.443</td>\n",
       "      <td>80.691</td>\n",
       "      <td>162.631</td>\n",
       "    </tr>\n",
       "    <tr>\n",
       "      <th>28553</th>\n",
       "      <td>123_247</td>\n",
       "      <td>123.0</td>\n",
       "      <td>247.0</td>\n",
       "      <td>81.718750</td>\n",
       "      <td>168.198788</td>\n",
       "      <td>82.696</td>\n",
       "      <td>173.304</td>\n",
       "      <td>80.942</td>\n",
       "      <td>174.271</td>\n",
       "      <td>82.387</td>\n",
       "      <td>160.988</td>\n",
       "      <td>80.691</td>\n",
       "      <td>164.176</td>\n",
       "    </tr>\n",
       "    <tr>\n",
       "      <th>28554</th>\n",
       "      <td>122_247</td>\n",
       "      <td>122.0</td>\n",
       "      <td>247.0</td>\n",
       "      <td>81.718750</td>\n",
       "      <td>169.743853</td>\n",
       "      <td>82.696</td>\n",
       "      <td>174.850</td>\n",
       "      <td>80.942</td>\n",
       "      <td>175.816</td>\n",
       "      <td>82.387</td>\n",
       "      <td>162.533</td>\n",
       "      <td>80.691</td>\n",
       "      <td>165.721</td>\n",
       "    </tr>\n",
       "    <tr>\n",
       "      <th>28555</th>\n",
       "      <td>121_247</td>\n",
       "      <td>121.0</td>\n",
       "      <td>247.0</td>\n",
       "      <td>81.718750</td>\n",
       "      <td>171.288917</td>\n",
       "      <td>82.696</td>\n",
       "      <td>176.395</td>\n",
       "      <td>80.942</td>\n",
       "      <td>177.361</td>\n",
       "      <td>82.387</td>\n",
       "      <td>164.079</td>\n",
       "      <td>80.691</td>\n",
       "      <td>167.266</td>\n",
       "    </tr>\n",
       "    <tr>\n",
       "      <th>28556</th>\n",
       "      <td>120_247</td>\n",
       "      <td>120.0</td>\n",
       "      <td>247.0</td>\n",
       "      <td>81.718750</td>\n",
       "      <td>172.833982</td>\n",
       "      <td>82.696</td>\n",
       "      <td>177.940</td>\n",
       "      <td>80.942</td>\n",
       "      <td>178.906</td>\n",
       "      <td>82.387</td>\n",
       "      <td>165.624</td>\n",
       "      <td>80.691</td>\n",
       "      <td>168.811</td>\n",
       "    </tr>\n",
       "  </tbody>\n",
       "</table>\n",
       "<p>28557 rows × 13 columns</p>\n",
       "</div>"
      ],
      "text/plain": [
       "          name   path    row        lat         lon  lat_UL   lon_UL  lat_UR  \\\n",
       "0       16_122   16.0  122.0 -81.844418  176.043772 -80.929 -178.785 -82.680   \n",
       "1       15_122   15.0  122.0 -81.844418  177.588836 -80.929 -177.240 -82.680   \n",
       "2       14_122   14.0  122.0 -81.844418  179.133901 -80.929 -175.695 -82.680   \n",
       "3       13_122   13.0  122.0 -81.844418 -179.321040 -80.929 -174.150 -82.680   \n",
       "4       12_122   12.0  122.0 -81.844418 -177.775970 -80.929 -172.605 -82.680   \n",
       "...        ...    ...    ...        ...         ...     ...      ...     ...   \n",
       "28552  124_247  124.0  247.0  81.718750  166.653724  82.696  171.759  80.942   \n",
       "28553  123_247  123.0  247.0  81.718750  168.198788  82.696  173.304  80.942   \n",
       "28554  122_247  122.0  247.0  81.718750  169.743853  82.696  174.850  80.942   \n",
       "28555  121_247  121.0  247.0  81.718750  171.288917  82.696  176.395  80.942   \n",
       "28556  120_247  120.0  247.0  81.718750  172.833982  82.696  177.940  80.942   \n",
       "\n",
       "        lon_UR  lat_LL   lon_LL  lat_LR   lon_LR  \n",
       "0     -177.567 -80.929  170.873 -82.680  169.654  \n",
       "1     -176.021 -80.929  172.418 -82.680  171.199  \n",
       "2     -174.476 -80.929  173.963 -82.680  172.744  \n",
       "3     -172.931 -80.929  175.508 -82.680  174.289  \n",
       "4     -171.386 -80.929  177.053 -82.680  175.834  \n",
       "...        ...     ...      ...     ...      ...  \n",
       "28552  172.726  82.387  159.443  80.691  162.631  \n",
       "28553  174.271  82.387  160.988  80.691  164.176  \n",
       "28554  175.816  82.387  162.533  80.691  165.721  \n",
       "28555  177.361  82.387  164.079  80.691  167.266  \n",
       "28556  178.906  82.387  165.624  80.691  168.811  \n",
       "\n",
       "[28557 rows x 13 columns]"
      ]
     },
     "execution_count": 4,
     "metadata": {},
     "output_type": "execute_result"
    }
   ],
   "source": [
    "ls8_new"
   ]
  },
  {
   "cell_type": "code",
   "execution_count": 5,
   "metadata": {},
   "outputs": [
    {
     "data": {
      "text/plain": [
       "<AxesSubplot:>"
      ]
     },
     "execution_count": 5,
     "metadata": {},
     "output_type": "execute_result"
    },
    {
     "data": {
      "image/png": "[encoded data removed]",
      "text/plain": [
       "<Figure size 432x288 with 1 Axes>"
      ]
     },
     "metadata": {
      "needs_background": "light"
     },
     "output_type": "display_data"
    }
   ],
   "source": [
    "ls8.lat.plot()"
   ]
  },
  {
   "cell_type": "markdown",
   "metadata": {},
   "source": [
    "The image extent as found in the csv/xls, however, is not totally accurate. Here shows an example image from Path/Row 001/075 (Atacama Desert). The coordinates of the red outline and the center point are based on the csv data.\n",
    "\n",
    "![alt text](boundary_LS8001075.png)\n"
   ]
  },
  {
   "cell_type": "markdown",
   "metadata": {},
   "source": [
    "Simple case: Closest LS8 Scene\n",
    "----------------------------------------------\n",
    "\n",
    "Remember, lat/lon convention is opposite the expected ordering for spatial index structures, which are x/y"
   ]
  },
  {
   "cell_type": "code",
   "execution_count": 6,
   "metadata": {},
   "outputs": [
    {
     "data": {
      "text/plain": [
       "array([[176.043772, -81.844418],\n",
       "       [177.588836, -81.844418],\n",
       "       [179.133901, -81.844418],\n",
       "       ...,\n",
       "       [169.743853,  81.71875 ],\n",
       "       [171.288917,  81.71875 ],\n",
       "       [172.833982,  81.71875 ]])"
      ]
     },
     "execution_count": 6,
     "metadata": {},
     "output_type": "execute_result"
    }
   ],
   "source": [
    "LS_rad = np.vstack((ls8.lon.values,ls8.lat.values)).T\n",
    "LS_rad"
   ]
  },
  {
   "cell_type": "code",
   "execution_count": 7,
   "metadata": {},
   "outputs": [],
   "source": [
    "LS_rad *= np.pi/180"
   ]
  },
  {
   "cell_type": "code",
   "execution_count": 8,
   "metadata": {},
   "outputs": [],
   "source": [
    "LSBall = BallTree(LS_rad,metric='haversine')"
   ]
  },
  {
   "cell_type": "code",
   "execution_count": 9,
   "metadata": {},
   "outputs": [],
   "source": [
    "# not tested for arrays yet...\n",
    "def lquery(lat,lon):\n",
    "    q = np.array([[lon, lat]])\n",
    "    q *= np.pi/180.\n",
    "    idx = LSBall.query(q.reshape(1,-1),k=1,return_distance=False,breadth_first=True)\n",
    "    path = int(ls8.path.iloc[idx.flatten()].values)\n",
    "    row = int(ls8.row.iloc[idx.flatten()].values)\n",
    "    return path, row"
   ]
  },
  {
   "cell_type": "code",
   "execution_count": 13,
   "metadata": {},
   "outputs": [
    {
     "data": {
      "text/plain": [
       "(96, 11)"
      ]
     },
     "execution_count": 13,
     "metadata": {},
     "output_type": "execute_result"
    }
   ],
   "source": [
    "# %%timeit\n",
    "# lquery(np.random.sample()*88,np.random.sample()*180)\n",
    "\n",
    "lquery(71.0027, 179.8242)"
   ]
  },
  {
   "cell_type": "code",
   "execution_count": null,
   "metadata": {},
   "outputs": [],
   "source": [
    "LSBall.query_radius()"
   ]
  },
  {
   "cell_type": "markdown",
   "metadata": {},
   "source": [
    "Dealing with overlapping scenes\n",
    "----------------------------------------------\n",
    "\n",
    "Ok, ignoring for a moment that we haven't address the temporal question of which dates you want, it's not too difficult to map a coordinate to the corresponding path/row. But, if your data is at the poles (in the arctic or antartic), things get more complicated. Scenes start to overlap, which means that you have a single point covered by multiple scenes. How do determine which ones you want?\n",
    "\n",
    "You could:\n",
    "\n",
    " - Increase the 'k' value and grab more neighboors\n",
    " - Use query radius to select multiple scenes within a query distance\n",
    " - Set up a query grid and a get different closest scene centers depending the grid cell\n",
    " \n",
    "The first option is bad because it doesn't generalize well-- the number of nieghbors you need depends on latitude, so you end up scaling it per query, and even then have post processing of the list. The last option probably works for most analysis workflows, where your study site is really an area...but it doesn't work if you're trying to validate a point measurement, such as grabing all Landsat-8 scenes that contain a temperature buoy. The last option will either underselect or overselect; if you overselect, you have to post process the candidate list.\n",
    "\n",
    "We could write a new distance class that avoids the above issues, but it's hard to do. You need something that is well behaved on a sphere (and doesn't fail catastrophically at near distances or antipodal points), and that's performant (which likely involves writing cython code). The second option is probably the best in terms of effort, in that it's unit tested, performant, and gets you a '90-percent' solution that you can interate on. You can combine writing your own distance metric with the query radius call for a hybrid approach: the first pass works at the large scale, and since the candiate list is at a known spatial extent and of smaller membership size, your custom distance metric doesn't need to be as performant or maintain accuracy in the spherical coordinate system over large distances.\n",
    "\n",
    "Initial Candidate List\n",
    "-----------------------------\n",
    "\n",
    "Landsat-8 scenes are 185 km by 180 km (114 mi by 112 mi), and in the worst case, will be rotated 45 degrees relative to our reference frame. Assuming that we draw a radius to pass through the corner pixels of the scene, the radius will be:"
   ]
  },
  {
   "cell_type": "code",
   "execution_count": 21,
   "metadata": {},
   "outputs": [
    {
     "data": {
      "text/plain": [
       "(129.05909499140307, 92.5)"
      ]
     },
     "execution_count": 21,
     "metadata": {},
     "output_type": "execute_result"
    }
   ],
   "source": [
    "((.5*185)**2 + (.5*180)**2)**.5, 185*.5"
   ]
  },
  {
   "cell_type": "markdown",
   "metadata": {},
   "source": [
    "...around 129 km. That means an extra ~36 km of query per side at maximum will be returning false results. However, the haversine distance itself is not completely accurate, since it is assuming a sphere and not an ellispoid. Furthermore, because earth bulges at the equator, it is more inaccurate as you head poleward. These distance max out at about 0.4 percent at 80 degrees (which is close to the maximum coverage of Landsat due to the pole hole in observations from the orbital inclination), but it's still best to pad the query in anycase"
   ]
  },
  {
   "cell_type": "code",
   "execution_count": 24,
   "metadata": {},
   "outputs": [
    {
     "data": {
      "text/plain": [
       "0.37"
      ]
     },
     "execution_count": 24,
     "metadata": {},
     "output_type": "execute_result"
    }
   ],
   "source": [
    "0.5*185*.004"
   ]
  },
  {
   "cell_type": "markdown",
   "metadata": {},
   "source": [
    "...could be up to a half kilometer off at our radius query distance. "
   ]
  },
  {
   "cell_type": "code",
   "execution_count": 28,
   "metadata": {},
   "outputs": [
    {
     "data": {
      "text/plain": [
       "0.0206438331974098"
      ]
     },
     "execution_count": 28,
     "metadata": {},
     "output_type": "execute_result"
    }
   ],
   "source": [
    "(((.5*186)**2 + (.5*186)**2)**.5)/6371"
   ]
  },
  {
   "cell_type": "markdown",
   "metadata": {},
   "source": [
    "We'll set the scene query radius to 0.0207 radians to be safe."
   ]
  },
  {
   "cell_type": "code",
   "execution_count": 29,
   "metadata": {},
   "outputs": [
    {
     "data": {
      "text/plain": [
       "131.87969999999999"
      ]
     },
     "execution_count": 29,
     "metadata": {},
     "output_type": "execute_result"
    }
   ],
   "source": [
    "0.0207*6371"
   ]
  },
  {
   "cell_type": "markdown",
   "metadata": {},
   "source": [
    "Note that this means we will always return at least two Landsat-8 scenes, even at the equator...in fact, we may return 5 scenes at the equator if the search point is exactly at a scene center. We could of course change the above to be smaller and exclude some valid scenes, or we could filter"
   ]
  },
  {
   "cell_type": "markdown",
   "metadata": {},
   "source": [
    "Wierd Custom Distance Metrics\n",
    "------------------------------\n",
    "\n",
    "The haversine distance is litterally fitting a square peg into a round hole. To do that, you need your hole to be big enough to fit the square peg, which results in empty space around the peg. What would be better is to keep the square peg, and find a square hole. Sure, 185 by 180 is technically a rectangle...but it's a lot closer to a square than to a circle. There's a distance metric that redefines distance so that concentric circles become consentric squares; it's call the chevychev distance, and the formulation in euclidian space is this:\n",
    "\n",
    "$max(|x - y|)$\n",
    "\n",
    "or explicitly in 2D space, this:\n",
    "\n",
    "$D_{Chebyshev} = max(|x_1 - x_2|, |y_1 - y_2|)$"
   ]
  },
  {
   "cell_type": "markdown",
   "metadata": {},
   "source": [
    "Compared to the 'normal' euclidean distance metric, which is this:\n",
    "\n",
    "$\\sqrt{\\sum{(x - y)^2}}$\n",
    "\n",
    "...more commonly written as the pythagorrean theorem for 2D space:\n",
    "\n",
    "$d_{istance} = \\sqrt{(x_1 - x_2)^2 + (y_1 - y_2)^2}$"
   ]
  },
  {
   "cell_type": "markdown",
   "metadata": {},
   "source": [
    "Of course, we're not doing calculations in euclidan space, we're doing them in radians on a sphere... and the haversine distance metric doesn't look anything like the euclidean distance metric:\n",
    "\n",
    "$2 \\arcsin(\\sqrt{sin^2(0.5*dx) + cos(x_1)cos(x_2)sin^2(0.5*dy)})$"
   ]
  },
  {
   "cell_type": "markdown",
   "metadata": {},
   "source": [
    "However, there is an approximation of distance from the FCC for the Earth ellipsoid projected to a plane, that looks quite similar to euclidean distance, and can be formulated to Chebyshev distance:\n",
    "\n",
    "$K_1 = 111.13209 - 0.56605 \\cos(2*lat) + 0.0012 \\cos(4*lat)$\n",
    "\n",
    "$K_2 = 111.41513 \\cos(lat)- 0.09455 \\cos(3*lat) + 0.0012 \\cos(5*lat)$\n",
    "\n",
    "$d = \\sqrt{(K_1(lat_1 - lat_2))^2 + (K_2(lon_1 - lon_2))^2}$\n"
   ]
  },
  {
   "cell_type": "markdown",
   "metadata": {},
   "source": [
    "...so the `lat` terms are simply a median or mean of the candiate points (or the query points if you prefer), and the chevychev distance becomes:"
   ]
  },
  {
   "cell_type": "markdown",
   "metadata": {},
   "source": [
    "$D_{Chebyshev} = max(K_1|lat_1 - lat_2|), K_2|lon_1 - lon_2|)$"
   ]
  },
  {
   "cell_type": "markdown",
   "metadata": {},
   "source": [
    "This is great! It gives us our square distance metric, and it's actually *more* accurate than the haversine formulation for the distances that we are using it over:"
   ]
  },
  {
   "cell_type": "markdown",
   "metadata": {},
   "source": [
    "Haversine distance error (only a function of latitude)\n",
    "![haversine](./haversine.png)\n",
    "\n",
    "FCC approximation error (function of query distance and latitude)\n",
    "![FCC Error](./FCC.png)"
   ]
  },
  {
   "cell_type": "markdown",
   "metadata": {},
   "source": [
    "As you can see from the above table, we're fine at even high latitudes. Also, because of the pole hole, we don't run into any wierdness at the poles because there is no data above 88.4 at either pole.\n",
    "\n",
    "However, there's a problem: the square query is aligned north/south and east/west, but our data is not. The inclination of the Landsat sensor is 92 degrees, and our square needs to be rotated. We have a square peg, we have a square hole, but the hole is slightly rotated to the right..."
   ]
  },
  {
   "cell_type": "markdown",
   "metadata": {},
   "source": [
    "More rotations, more problems\n",
    "------------------------------\n",
    "\n",
    "It should be immediately obvious that the formulation above does not work when we rotate our coordinate system. The constants are calculated for an Earth ellisode with a slight equator bulge; rotating our coordinate system would require recalulating those constants for the approximation. \n",
    "\n",
    "There is a simpler solution; go back to a spherical model. Here's the model assumed for Earth:\n",
    "\n",
    "$\\partial y = 12430 \\frac{|lat_1 - lat_2|}{180}$\n",
    "\n",
    "$\\partial x = 24901 \\frac{|lon_1 - lon_2|}{360} cos(\\frac{lat_1 + lat_2}{2})$\n",
    "\n",
    "$d = \\sqrt{\\partial x^2 + \\partial y^2}$\n"
   ]
  },
  {
   "cell_type": "markdown",
   "metadata": {},
   "source": [
    "The above is formulated in degrees and miles; we'll modify it shortly, but here's the corresponding error table:\n",
    "\n",
    "![Trig Error](./trig.png)"
   ]
  },
  {
   "cell_type": "markdown",
   "metadata": {},
   "source": [
    "This is still fine for our use, especially with some padding. Landsat 8 has an inclination of 98.2, so we need to rotate our coordinates to match that. We should also modify the spheriod values to reflect the new axis definition. Ideally, we'd figure out the circumference at 98.2, and also the circumference perpendicular to that. For now, I'm just going to a symmetric average value for both axes, and can update it later. Switching to kilometers, changing from degrees to radians, and accounting for a new chebshev distance metric, we have the following:"
   ]
  },
  {
   "cell_type": "markdown",
   "metadata": {},
   "source": [
    "$K = 6371$\n",
    "\n",
    "$D_{Chebyshev} = max((K * |lat_1 - lat_2|), (K * |lon_1 - lon_2| * cos(\\frac{lat_1 +lat_2}{2}))$"
   ]
  },
  {
   "cell_type": "markdown",
   "metadata": {},
   "source": [
    "Sadly, this also has the potential to break over the poles-- while Landsat-8 doesn't go above 88.4 degrees on the geodetic sphere, it will go above that in our rotated coordinate system, and things will break. For now, we can simply limit the function to mid and high latitudes, but stay away from things between 88 and 88.4 degrees north or south"
   ]
  },
  {
   "cell_type": "code",
   "execution_count": null,
   "metadata": {},
   "outputs": [],
   "source": []
  }
 ],
 "metadata": {
  "kernelspec": {
   "display_name": "Python 3",
   "language": "python",
   "name": "python3"
  },
  "language_info": {
   "codemirror_mode": {
    "name": "ipython",
    "version": 3
   },
   "file_extension": ".py",
   "mimetype": "text/x-python",
   "name": "python",
   "nbconvert_exporter": "python",
   "pygments_lexer": "ipython3",
   "version": "3.8.6"
  }
 },
 "nbformat": 4,
 "nbformat_minor": 4
}
